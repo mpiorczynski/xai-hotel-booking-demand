{
 "cells": [
  {
   "cell_type": "code",
   "execution_count": 2,
   "metadata": {},
   "outputs": [],
   "source": [
    "import numpy as np\n",
    "import pandas as pd\n",
    "from sklearn.model_selection import train_test_split\n",
    "import dalex as dx\n",
    "import shap\n",
    "import pickle as pkl "
   ]
  },
  {
   "cell_type": "code",
   "execution_count": 3,
   "metadata": {},
   "outputs": [],
   "source": [
    "df = pd.read_csv(\"../data/preprocessed_data.csv\")"
   ]
  },
  {
   "cell_type": "code",
   "execution_count": 4,
   "metadata": {},
   "outputs": [],
   "source": [
    "X = df.drop([\"is_canceled\"], axis=1)\n",
    "y = df[\"is_canceled\"]\n",
    "\n",
    "X_train, X_test, y_train, y_test = train_test_split(X, y, train_size=0.8, random_state=42, stratify=y)"
   ]
  },
  {
   "cell_type": "code",
   "execution_count": 5,
   "metadata": {},
   "outputs": [
    {
     "name": "stdout",
     "output_type": "stream",
     "text": [
      "Preparation of a new explainer is initiated\n",
      "\n",
      "  -> data              : 95368 rows 25 cols\n",
      "  -> target variable   : Parameter 'y' was a pandas.Series. Converted to a numpy.ndarray.\n",
      "  -> target variable   : 95368 values\n",
      "  -> model_class       : sklearn.tree._classes.DecisionTreeClassifier (default)\n",
      "  -> label             : decision_tree\n",
      "  -> predict function  : <function yhat_proba_default at 0x000001D6F16FC700> will be used (default)\n",
      "  -> predict function  : Accepts only pandas.DataFrame, numpy.ndarray causes problems.\n",
      "  -> predicted values  : min = 0.0, mean = 0.371, max = 1.0\n",
      "  -> model type        : classification will be used (default)\n",
      "  -> residual function : difference between y and yhat (default)\n",
      "  -> residuals         : min = -1.0, mean = -0.000345, max = 1.0\n",
      "  -> model_info        : package sklearn\n",
      "\n",
      "A new explainer has been created!\n",
      "Preparation of a new explainer is initiated\n",
      "\n",
      "  -> data              : 95368 rows 25 cols\n",
      "  -> target variable   : Parameter 'y' was a pandas.Series. Converted to a numpy.ndarray.\n",
      "  -> target variable   : 95368 values\n",
      "  -> model_class       : sklearn.ensemble._forest.RandomForestClassifier (default)\n",
      "  -> label             : random_forest\n",
      "  -> predict function  : <function yhat_proba_default at 0x000001D6F16FC700> will be used (default)\n",
      "  -> predict function  : Accepts only pandas.DataFrame, numpy.ndarray causes problems.\n",
      "  -> predicted values  : min = 0.0, mean = 0.373, max = 1.0\n",
      "  -> model type        : classification will be used (default)\n",
      "  -> residual function : difference between y and yhat (default)\n",
      "  -> residuals         : min = -1.0, mean = -0.00245, max = 0.994\n",
      "  -> model_info        : package sklearn\n",
      "\n",
      "A new explainer has been created!\n",
      "Preparation of a new explainer is initiated\n",
      "\n",
      "  -> data              : 95368 rows 25 cols\n",
      "  -> target variable   : Parameter 'y' was a pandas.Series. Converted to a numpy.ndarray.\n",
      "  -> target variable   : 95368 values\n",
      "  -> model_class       : xgboost.sklearn.XGBClassifier (default)\n",
      "  -> label             : xgb\n",
      "  -> predict function  : <function yhat_proba_default at 0x000001D6F16FC700> will be used (default)\n",
      "  -> predict function  : Accepts only pandas.DataFrame, numpy.ndarray causes problems.\n",
      "  -> predicted values  : min = 2.54e-06, mean = 0.37, max = 1.0\n",
      "  -> model type        : classification will be used (default)\n",
      "  -> residual function : difference between y and yhat (default)\n",
      "  -> residuals         : min = -0.993, mean = 0.000419, max = 1.0\n",
      "  -> model_info        : package sklearn\n",
      "\n",
      "A new explainer has been created!\n"
     ]
    }
   ],
   "source": [
    "tuned_names = [\"decision_tree\", \"random_forest\", \"xgb\"]\n",
    "tuned_models = dict()\n",
    "\n",
    "for name in tuned_names:\n",
    "    with open(\"../models/tuned/\" + name, \"rb\") as file:\n",
    "        tuned_models[name] = pkl.load(file)\n",
    "\n",
    "explainers = dict()\n",
    "\n",
    "for name, model in tuned_models.items():\n",
    "    explainers[name] = dx.Explainer(model, X_train, y_train, label=name)"
   ]
  },
  {
   "cell_type": "code",
   "execution_count": 6,
   "metadata": {},
   "outputs": [],
   "source": [
    "preds = tuned_models[\"random_forest\"].predict(X_test)\n",
    "probs = tuned_models[\"random_forest\"].predict_proba(X_test)"
   ]
  },
  {
   "cell_type": "code",
   "execution_count": 7,
   "metadata": {},
   "outputs": [],
   "source": [
    "FN = np.where((preds != y_test) & (preds == 0))[0]\n",
    "FP = np.where((preds != y_test) & (preds == 1))[0]\n",
    "TN = np.where((preds == y_test) & (preds == 0))[0]\n",
    "TP = np.where((preds == y_test) & (preds == 1))[0]"
   ]
  },
  {
   "cell_type": "markdown",
   "metadata": {},
   "source": [
    "# False nagatives and False positives"
   ]
  },
  {
   "cell_type": "markdown",
   "metadata": {},
   "source": [
    "# False negative"
   ]
  },
  {
   "cell_type": "code",
   "execution_count": 8,
   "metadata": {},
   "outputs": [
    {
     "name": "stderr",
     "output_type": "stream",
     "text": [
      "\n",
      "A value is trying to be set on a copy of a slice from a DataFrame.\n",
      "Try using .loc[row_indexer,col_indexer] = value instead\n",
      "\n",
      "See the caveats in the documentation: https://pandas.pydata.org/pandas-docs/stable/user_guide/indexing.html#returning-a-view-versus-a-copy\n",
      "\n",
      "A value is trying to be set on a copy of a slice from a DataFrame\n",
      "\n",
      "See the caveats in the documentation: https://pandas.pydata.org/pandas-docs/stable/user_guide/indexing.html#returning-a-view-versus-a-copy\n"
     ]
    }
   ],
   "source": [
    "df_FN = X_test.iloc[FN, :]\n",
    "df_FN[\"prob\"] = probs[FN, 0]\n",
    "df_FN.sort_values(by=\"prob\", ascending=False, inplace=True)"
   ]
  },
  {
   "cell_type": "code",
   "execution_count": 130,
   "metadata": {},
   "outputs": [
    {
     "name": "stdout",
     "output_type": "stream",
     "text": [
      "lead_time                                     181\n",
      "arrival_date_week_number                       42\n",
      "arrival_date_day_of_month                      11\n",
      "stays_in_weekend_nights                         0\n",
      "stays_in_week_nights                            2\n",
      "total_nights                                    2\n",
      "adults                                          1\n",
      "children                                      0.0\n",
      "babies                                          0\n",
      "is_repeated_guest                               0\n",
      "previous_cancellations                          0\n",
      "previous_bookings_not_canceled                  0\n",
      "agent                                       234.0\n",
      "company                                       0.0\n",
      "required_car_parking_spaces                     0\n",
      "total_of_special_requests                       0\n",
      "adr                                         120.0\n",
      "adr_pp                                      120.0\n",
      "arrival_date_month                        October\n",
      "meal                                           BB\n",
      "market_segment                      Offline TA/TO\n",
      "distribution_channel                        TA/TO\n",
      "reserved_room_type                              A\n",
      "deposit_type                           No Deposit\n",
      "customer_type                     Transient-Party\n",
      "Name: 58322, dtype: object\n",
      "Predicted value for DT model for the selected observation: 0 (1.0), real value: 1\n"
     ]
    }
   ],
   "source": [
    "observation = df_FN.iloc[[0]].iloc[:, :-1]\n",
    "print(observation.squeeze())\n",
    "\n",
    "prediction = tuned_models[\"random_forest\"].predict(observation)[0]\n",
    "\n",
    "prob = tuned_models[\"random_forest\"].predict_proba(observation)[0][prediction]\n",
    "\n",
    "print(f'Predicted value for DT model for the selected observation: {prediction} ({prob}), real value: 1')"
   ]
  },
  {
   "cell_type": "code",
   "execution_count": 131,
   "metadata": {},
   "outputs": [],
   "source": [
    "shap_FN = explainers[\"random_forest\"].predict_parts(observation, type='shap', B=5)"
   ]
  },
  {
   "cell_type": "code",
   "execution_count": 132,
   "metadata": {},
   "outputs": [
    {
     "data": {
      "application/vnd.plotly.v1+json": {
       "config": {
        "displaylogo": false,
        "modeBarButtonsToRemove": [
         "sendDataToCloud",
         "lasso2d",
         "autoScale2d",
         "select2d",
         "zoom2d",
         "pan2d",
         "zoomIn2d",
         "zoomOut2d",
         "resetScale2d",
         "toggleSpikelines",
         "hoverCompareCartesian",
         "hoverClosestCartesian"
        ],
        "plotlyServerURL": "https://plot.ly",
        "staticPlot": false,
        "toImageButtonOptions": {
         "height": null,
         "width": null
        }
       },
       "data": [
        {
         "base": 0.3732156225559388,
         "hoverinfo": "text",
         "hoverlabel": {
          "bgcolor": "rgba(0,0,0,0.8)"
         },
         "hovertext": [
          "Average response: 0.373<br>Prediction: 0.0<br>customer_type = Transient-Party<br>decreases average response <br>by 0.169",
          "Average response: 0.373<br>Prediction: 0.0<br>market_segment = Offline TA/TO<br>decreases average response <br>by 0.144",
          "Average response: 0.373<br>Prediction: 0.0<br>deposit_type = No Deposit<br>decreases average response <br>by 0.073",
          "Average response: 0.373<br>Prediction: 0.0<br>total_of_special_requests = 0.0<br>increases average response <br>by 0.055",
          "Average response: 0.373<br>Prediction: 0.0<br>adr_pp = 120.0<br>decreases average response <br>by 0.049",
          "Average response: 0.373<br>Prediction: 0.0<br>adr = 120.0<br>increases average response <br>by 0.022",
          "Average response: 0.373<br>Prediction: 0.0<br>agent = 234.0<br>increases average response <br>by 0.018",
          "Average response: 0.373<br>Prediction: 0.0<br>previous_cancellations = 0.0<br>decreases average response <br>by 0.016",
          "Average response: 0.373<br>Prediction: 0.0<br>arrival_date_month = October<br>decreases average response <br>by 0.014",
          "Average response: 0.373<br>Prediction: 0.0<br>+ all other factors<br>decreases average response <br>by 0.003"
         ],
         "marker": {
          "color": [
           "#f05a71",
           "#f05a71",
           "#f05a71",
           "#8bdcbe",
           "#f05a71",
           "#8bdcbe",
           "#8bdcbe",
           "#f05a71",
           "#f05a71",
           "#f05a71"
          ]
         },
         "orientation": "h",
         "showlegend": false,
         "text": [
          "-0.169",
          "-0.144",
          "-0.073",
          "+0.055",
          "-0.049",
          "+0.022",
          "+0.018",
          "-0.016",
          "-0.014",
          "-0.003"
         ],
         "textposition": "outside",
         "type": "bar",
         "x": [
          -0.169,
          -0.144,
          -0.073,
          0.055,
          -0.049,
          0.022,
          0.018,
          -0.016,
          -0.014,
          -0.003
         ],
         "xaxis": "x",
         "y": [
          "customer_type = Transient-Party",
          "market_segment = Offline TA/TO",
          "deposit_type = No Deposit",
          "total_of_special_requests = 0.0",
          "adr_pp = 120.0",
          "adr = 120.0",
          "agent = 234.0",
          "previous_cancellations = 0.0",
          "arrival_date_month = October",
          "+ all other factors"
         ],
         "yaxis": "y"
        }
       ],
       "layout": {
        "annotations": [
         {
          "font": {
           "size": 16
          },
          "showarrow": false,
          "text": "random_forest",
          "x": 0.5,
          "xanchor": "center",
          "xref": "paper",
          "y": 1,
          "yanchor": "bottom",
          "yref": "paper"
         },
         {
          "font": {
           "size": 16
          },
          "showarrow": false,
          "text": "contribution",
          "x": 0.5,
          "xanchor": "center",
          "xref": "paper",
          "y": 0,
          "yanchor": "top",
          "yref": "paper",
          "yshift": -30
         }
        ],
        "font": {
         "color": "#371ea3"
        },
        "height": 373,
        "margin": {
         "b": 71,
         "r": 30,
         "t": 78
        },
        "shapes": [
         {
          "line": {
           "color": "#371ea3",
           "dash": "dot",
           "width": 1.5
          },
          "type": "line",
          "x0": 0.3732156225559388,
          "x1": 0.3732156225559388,
          "xref": "x",
          "y0": -1,
          "y1": 11,
          "yref": "y"
         }
        ],
        "template": {
         "data": {
          "scatter": [
           {
            "type": "scatter"
           }
          ]
         }
        },
        "title": {
         "text": "Shapley Values",
         "x": 0.15
        },
        "xaxis": {
         "anchor": "y",
         "automargin": true,
         "domain": [
          0,
          1
         ],
         "fixedrange": true,
         "gridwidth": 2,
         "range": [
          0.17061562255593882,
          0.46181562255593883
         ],
         "tickcolor": "white",
         "ticklen": 3,
         "ticks": "outside",
         "type": "linear",
         "zeroline": false
        },
        "yaxis": {
         "anchor": "x",
         "automargin": true,
         "autorange": "reversed",
         "domain": [
          0,
          1
         ],
         "fixedrange": true,
         "gridwidth": 2,
         "tickcolor": "white",
         "ticklen": 10,
         "ticks": "outside",
         "type": "category"
        }
       }
      }
     },
     "metadata": {},
     "output_type": "display_data"
    }
   ],
   "source": [
    "shap_FN.plot()"
   ]
  },
  {
   "cell_type": "markdown",
   "metadata": {},
   "source": [
    "## SHAP"
   ]
  },
  {
   "cell_type": "code",
   "execution_count": 19,
   "metadata": {},
   "outputs": [],
   "source": [
    "observation = df_FN.iloc[:2, :-1]\n"
   ]
  },
  {
   "cell_type": "code",
   "execution_count": 118,
   "metadata": {},
   "outputs": [],
   "source": [
    "num_cols = X_test.columns[~np.isin(X_test.columns.values, tuned_models[\"random_forest\"]['preprocessor'].transformers_[1][2])]"
   ]
  },
  {
   "cell_type": "code",
   "execution_count": 119,
   "metadata": {},
   "outputs": [],
   "source": [
    "cat_cols = tuned_models[\"random_forest\"]['preprocessor'].transformers_[1][1]\\\n",
    "    ['onehot'].get_feature_names_out(tuned_models[\"random_forest\"]['preprocessor'].transformers_[1][2])"
   ]
  },
  {
   "cell_type": "code",
   "execution_count": 123,
   "metadata": {},
   "outputs": [],
   "source": [
    "cols = np.r_[num_cols, cat_cols]"
   ]
  },
  {
   "cell_type": "code",
   "execution_count": 128,
   "metadata": {},
   "outputs": [],
   "source": [
    "explainer = shap.Explainer(tuned_models[\"random_forest\"][\"model\"].predict, \n",
    "    tuned_models[\"random_forest\"]['preprocessor'].transform(X_test), feature_names=cols\n",
    "\n",
    ")\n",
    "sv = explainer(tuned_models[\"random_forest\"]['preprocessor'].transform(observation))"
   ]
  },
  {
   "cell_type": "code",
   "execution_count": 129,
   "metadata": {},
   "outputs": [
    {
     "data": {
      "image/png": "[encoded data removed]",
      "text/plain": [
       "<Figure size 576x468 with 3 Axes>"
      ]
     },
     "metadata": {},
     "output_type": "display_data"
    }
   ],
   "source": [
    "shap.plots.waterfall(sv[0])"
   ]
  },
  {
   "cell_type": "markdown",
   "metadata": {},
   "source": [
    "## False positive"
   ]
  },
  {
   "cell_type": "code",
   "execution_count": 133,
   "metadata": {},
   "outputs": [
    {
     "name": "stderr",
     "output_type": "stream",
     "text": [
      "C:\\Users\\mikol\\AppData\\Local\\Temp/ipykernel_9908/1143494719.py:2: SettingWithCopyWarning:\n",
      "\n",
      "\n",
      "A value is trying to be set on a copy of a slice from a DataFrame.\n",
      "Try using .loc[row_indexer,col_indexer] = value instead\n",
      "\n",
      "See the caveats in the documentation: https://pandas.pydata.org/pandas-docs/stable/user_guide/indexing.html#returning-a-view-versus-a-copy\n",
      "\n",
      "d:\\Programy\\anaconda3\\lib\\site-packages\\pandas\\util\\_decorators.py:311: SettingWithCopyWarning:\n",
      "\n",
      "\n",
      "A value is trying to be set on a copy of a slice from a DataFrame\n",
      "\n",
      "See the caveats in the documentation: https://pandas.pydata.org/pandas-docs/stable/user_guide/indexing.html#returning-a-view-versus-a-copy\n",
      "\n"
     ]
    }
   ],
   "source": [
    "df_FP = X_test.iloc[FP, :]\n",
    "df_FP[\"prob\"] = probs[FP, 0]\n",
    "df_FP.sort_values(by=\"prob\", ascending=False, inplace=True)"
   ]
  },
  {
   "cell_type": "code",
   "execution_count": 134,
   "metadata": {},
   "outputs": [
    {
     "name": "stdout",
     "output_type": "stream",
     "text": [
      "lead_time                                 21\n",
      "arrival_date_week_number                  53\n",
      "arrival_date_day_of_month                 27\n",
      "stays_in_weekend_nights                    2\n",
      "stays_in_week_nights                       2\n",
      "total_nights                               4\n",
      "adults                                     2\n",
      "children                                 2.0\n",
      "babies                                     0\n",
      "is_repeated_guest                          0\n",
      "previous_cancellations                     0\n",
      "previous_bookings_not_canceled             0\n",
      "agent                                    9.0\n",
      "company                                  0.0\n",
      "required_car_parking_spaces                0\n",
      "total_of_special_requests                  1\n",
      "adr                                    187.0\n",
      "adr_pp                                 46.75\n",
      "arrival_date_month                  December\n",
      "meal                                      BB\n",
      "market_segment                     Online TA\n",
      "distribution_channel                   TA/TO\n",
      "reserved_room_type                         F\n",
      "deposit_type                      No Deposit\n",
      "customer_type                      Transient\n",
      "Name: 46226, dtype: object\n",
      "Predicted value for the selected observation: 1 (0.5004067460317463), real value: 0\n"
     ]
    }
   ],
   "source": [
    "observation = df_FP.iloc[[0]].iloc[:, :-1]\n",
    "print(observation.squeeze())\n",
    "\n",
    "prediction = tuned_models[\"random_forest\"].predict(observation)[0]\n",
    "\n",
    "prob = tuned_models[\"random_forest\"].predict_proba(observation)[0][prediction]\n",
    "\n",
    "print(f'Predicted value for the selected observation: {prediction} ({prob}), real value: 0')"
   ]
  },
  {
   "cell_type": "code",
   "execution_count": 135,
   "metadata": {},
   "outputs": [],
   "source": [
    "shap_FP = explainers[\"random_forest\"].predict_parts(observation, type='shap', B=5)"
   ]
  },
  {
   "cell_type": "code",
   "execution_count": 136,
   "metadata": {},
   "outputs": [
    {
     "data": {
      "application/vnd.plotly.v1+json": {
       "config": {
        "displaylogo": false,
        "modeBarButtonsToRemove": [
         "sendDataToCloud",
         "lasso2d",
         "autoScale2d",
         "select2d",
         "zoom2d",
         "pan2d",
         "zoomIn2d",
         "zoomOut2d",
         "resetScale2d",
         "toggleSpikelines",
         "hoverCompareCartesian",
         "hoverClosestCartesian"
        ],
        "plotlyServerURL": "https://plot.ly",
        "staticPlot": false,
        "toImageButtonOptions": {
         "height": null,
         "width": null
        }
       },
       "data": [
        {
         "base": 0.3732156225559388,
         "hoverinfo": "text",
         "hoverlabel": {
          "bgcolor": "rgba(0,0,0,0.8)"
         },
         "hovertext": [
          "Average response: 0.373<br>Prediction: 0.5<br>market_segment = Online TA<br>increases average response <br>by 0.069",
          "Average response: 0.373<br>Prediction: 0.5<br>total_of_special_requests = 1.0<br>decreases average response <br>by 0.069",
          "Average response: 0.373<br>Prediction: 0.5<br>deposit_type = No Deposit<br>decreases average response <br>by 0.056",
          "Average response: 0.373<br>Prediction: 0.5<br>children = 2.0<br>increases average response <br>by 0.051",
          "Average response: 0.373<br>Prediction: 0.5<br>arrival_date_week_number = 53.0<br>increases average response <br>by 0.037",
          "Average response: 0.373<br>Prediction: 0.5<br>adr = 187.0<br>increases average response <br>by 0.034",
          "Average response: 0.373<br>Prediction: 0.5<br>agent = 9.0<br>increases average response <br>by 0.03",
          "Average response: 0.373<br>Prediction: 0.5<br>previous_cancellations = 0.0<br>decreases average response <br>by 0.016",
          "Average response: 0.373<br>Prediction: 0.5<br>required_car_parking_spaces = 0.0<br>increases average response <br>by 0.013",
          "Average response: 0.373<br>Prediction: 0.5<br>+ all other factors<br>increases average response <br>by 0.034"
         ],
         "marker": {
          "color": [
           "#8bdcbe",
           "#f05a71",
           "#f05a71",
           "#8bdcbe",
           "#8bdcbe",
           "#8bdcbe",
           "#8bdcbe",
           "#f05a71",
           "#8bdcbe",
           "#8bdcbe"
          ]
         },
         "orientation": "h",
         "showlegend": false,
         "text": [
          "+0.069",
          "-0.069",
          "-0.056",
          "+0.051",
          "+0.037",
          "+0.034",
          "+0.03",
          "-0.016",
          "+0.013",
          "+0.034"
         ],
         "textposition": "outside",
         "type": "bar",
         "x": [
          0.069,
          -0.069,
          -0.056,
          0.051,
          0.037,
          0.034,
          0.03,
          -0.016,
          0.013,
          0.034
         ],
         "xaxis": "x",
         "y": [
          "market_segment = Online TA",
          "total_of_special_requests = 1.0",
          "deposit_type = No Deposit",
          "children = 2.0",
          "arrival_date_week_number = 53.0",
          "adr = 187.0",
          "agent = 9.0",
          "previous_cancellations = 0.0",
          "required_car_parking_spaces = 0.0",
          "+ all other factors"
         ],
         "yaxis": "y"
        }
       ],
       "layout": {
        "annotations": [
         {
          "font": {
           "size": 16
          },
          "showarrow": false,
          "text": "random_forest",
          "x": 0.5,
          "xanchor": "center",
          "xref": "paper",
          "y": 1,
          "yanchor": "bottom",
          "yref": "paper"
         },
         {
          "font": {
           "size": 16
          },
          "showarrow": false,
          "text": "contribution",
          "x": 0.5,
          "xanchor": "center",
          "xref": "paper",
          "y": 0,
          "yanchor": "top",
          "yref": "paper",
          "yshift": -30
         }
        ],
        "font": {
         "color": "#371ea3"
        },
        "height": 373,
        "margin": {
         "b": 71,
         "r": 30,
         "t": 78
        },
        "shapes": [
         {
          "line": {
           "color": "#371ea3",
           "dash": "dot",
           "width": 1.5
          },
          "type": "line",
          "x0": 0.3732156225559388,
          "x1": 0.3732156225559388,
          "xref": "x",
          "y0": -1,
          "y1": 11,
          "yref": "y"
         }
        ],
        "template": {
         "data": {
          "scatter": [
           {
            "type": "scatter"
           }
          ]
         }
        },
        "title": {
         "text": "Shapley Values",
         "x": 0.15
        },
        "xaxis": {
         "anchor": "y",
         "automargin": true,
         "domain": [
          0,
          1
         ],
         "fixedrange": true,
         "gridwidth": 2,
         "range": [
          0.2835156225559388,
          0.4629156225559388
         ],
         "tickcolor": "white",
         "ticklen": 3,
         "ticks": "outside",
         "type": "linear",
         "zeroline": false
        },
        "yaxis": {
         "anchor": "x",
         "automargin": true,
         "autorange": "reversed",
         "domain": [
          0,
          1
         ],
         "fixedrange": true,
         "gridwidth": 2,
         "tickcolor": "white",
         "ticklen": 10,
         "ticks": "outside",
         "type": "category"
        }
       }
      }
     },
     "metadata": {},
     "output_type": "display_data"
    }
   ],
   "source": [
    "shap_FP.plot()"
   ]
  },
  {
   "cell_type": "markdown",
   "metadata": {},
   "source": [
    "# The most valid predictions"
   ]
  },
  {
   "cell_type": "code",
   "execution_count": 31,
   "metadata": {},
   "outputs": [],
   "source": [
    "valid = np.where(np.logical_or(probs>=0.95, probs<=0.05))[0]\n"
   ]
  },
  {
   "cell_type": "markdown",
   "metadata": {},
   "source": [
    "# The closest to the decision boundary"
   ]
  },
  {
   "cell_type": "code",
   "execution_count": null,
   "metadata": {},
   "outputs": [],
   "source": [
    "closest = np.where(np.logical_and(probs>=0.49, probs<=0.51))[0]\n"
   ]
  }
 ],
 "metadata": {
  "interpreter": {
   "hash": "f76ed3cc9315e48c77804955e85c084a2eab6ce07353bbf90e3475a447fc2fe0"
  },
  "kernelspec": {
   "display_name": "Python 3.8.8",
   "language": "python",
   "name": "python3"
  },
  "language_info": {
   "codemirror_mode": {
    "name": "ipython",
    "version": 3
   },
   "file_extension": ".py",
   "mimetype": "text/x-python",
   "name": "python",
   "nbconvert_exporter": "python",
   "pygments_lexer": "ipython3",
   "version": "3.8.8"
  },
  "orig_nbformat": 4
 },
 "nbformat": 4,
 "nbformat_minor": 2
}
